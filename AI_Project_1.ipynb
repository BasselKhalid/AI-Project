{
  "nbformat": 4,
  "nbformat_minor": 0,
  "metadata": {
    "colab": {
      "provenance": [],
      "authorship_tag": "ABX9TyPXYCIJ/rb0L6Eke7oLQe1r",
      "include_colab_link": true
    },
    "kernelspec": {
      "name": "python3",
      "display_name": "Python 3"
    },
    "language_info": {
      "name": "python"
    }
  },
  "cells": [
    {
      "cell_type": "markdown",
      "metadata": {
        "id": "view-in-github",
        "colab_type": "text"
      },
      "source": [
        "<a href=\"https://colab.research.google.com/github/BasselKhalid/AI-Project/blob/main/AI_Project_1.ipynb\" target=\"_parent\"><img src=\"https://colab.research.google.com/assets/colab-badge.svg\" alt=\"Open In Colab\"/></a>"
      ]
    },
    {
      "cell_type": "markdown",
      "source": [
        "**Importing the Dataset:**"
      ],
      "metadata": {
        "id": "IftIFrdEMBWV"
      }
    },
    {
      "cell_type": "code",
      "source": [
        "import kagglehub\n",
        "import pandas as pd\n",
        "from google.colab import files\n",
        "\n",
        "# Step 1: Upload Kaggle API key\n",
        "files.upload()  # This will prompt you to upload kaggle.json\n",
        "\n",
        "# Step 2: Configure Kaggle key\n",
        "!mkdir -p ~/.kaggle\n",
        "!cp kaggle.json ~/.kaggle/  # Move the key to Kaggle directory\n",
        "!chmod 600 ~/.kaggle/kaggle.json  # Set permissions\n",
        "\n",
        "# Step 3: Download the latest version of the dataset using kagglehub\n",
        "path = kagglehub.dataset_download(\"shreyasur965/phone-search-dataset\")\n",
        "print(\"Path to dataset files:\", path)\n",
        "\n",
        "# Step 4: Load the dataset into a pandas DataFrame\n",
        "# Adjust the filename to match the exact downloaded file in the path if needed\n",
        "df = pd.read_csv(f'{path}/phone search.csv')\n",
        "\n",
        "# Display the first few rows of the dataset\n",
        "print(df.head())\n"
      ],
      "metadata": {
        "colab": {
          "base_uri": "https://localhost:8080/",
          "height": 1000
        },
        "id": "F4GZju77MBm7",
        "outputId": "86b69746-8a25-4ec1-8542-69170e534e24"
      },
      "execution_count": 7,
      "outputs": [
        {
          "output_type": "display_data",
          "data": {
            "text/plain": [
              "<IPython.core.display.HTML object>"
            ],
            "text/html": [
              "\n",
              "     <input type=\"file\" id=\"files-787bcb86-02f0-4c94-bb43-cbc131bdcf80\" name=\"files[]\" multiple disabled\n",
              "        style=\"border:none\" />\n",
              "     <output id=\"result-787bcb86-02f0-4c94-bb43-cbc131bdcf80\">\n",
              "      Upload widget is only available when the cell has been executed in the\n",
              "      current browser session. Please rerun this cell to enable.\n",
              "      </output>\n",
              "      <script>// Copyright 2017 Google LLC\n",
              "//\n",
              "// Licensed under the Apache License, Version 2.0 (the \"License\");\n",
              "// you may not use this file except in compliance with the License.\n",
              "// You may obtain a copy of the License at\n",
              "//\n",
              "//      http://www.apache.org/licenses/LICENSE-2.0\n",
              "//\n",
              "// Unless required by applicable law or agreed to in writing, software\n",
              "// distributed under the License is distributed on an \"AS IS\" BASIS,\n",
              "// WITHOUT WARRANTIES OR CONDITIONS OF ANY KIND, either express or implied.\n",
              "// See the License for the specific language governing permissions and\n",
              "// limitations under the License.\n",
              "\n",
              "/**\n",
              " * @fileoverview Helpers for google.colab Python module.\n",
              " */\n",
              "(function(scope) {\n",
              "function span(text, styleAttributes = {}) {\n",
              "  const element = document.createElement('span');\n",
              "  element.textContent = text;\n",
              "  for (const key of Object.keys(styleAttributes)) {\n",
              "    element.style[key] = styleAttributes[key];\n",
              "  }\n",
              "  return element;\n",
              "}\n",
              "\n",
              "// Max number of bytes which will be uploaded at a time.\n",
              "const MAX_PAYLOAD_SIZE = 100 * 1024;\n",
              "\n",
              "function _uploadFiles(inputId, outputId) {\n",
              "  const steps = uploadFilesStep(inputId, outputId);\n",
              "  const outputElement = document.getElementById(outputId);\n",
              "  // Cache steps on the outputElement to make it available for the next call\n",
              "  // to uploadFilesContinue from Python.\n",
              "  outputElement.steps = steps;\n",
              "\n",
              "  return _uploadFilesContinue(outputId);\n",
              "}\n",
              "\n",
              "// This is roughly an async generator (not supported in the browser yet),\n",
              "// where there are multiple asynchronous steps and the Python side is going\n",
              "// to poll for completion of each step.\n",
              "// This uses a Promise to block the python side on completion of each step,\n",
              "// then passes the result of the previous step as the input to the next step.\n",
              "function _uploadFilesContinue(outputId) {\n",
              "  const outputElement = document.getElementById(outputId);\n",
              "  const steps = outputElement.steps;\n",
              "\n",
              "  const next = steps.next(outputElement.lastPromiseValue);\n",
              "  return Promise.resolve(next.value.promise).then((value) => {\n",
              "    // Cache the last promise value to make it available to the next\n",
              "    // step of the generator.\n",
              "    outputElement.lastPromiseValue = value;\n",
              "    return next.value.response;\n",
              "  });\n",
              "}\n",
              "\n",
              "/**\n",
              " * Generator function which is called between each async step of the upload\n",
              " * process.\n",
              " * @param {string} inputId Element ID of the input file picker element.\n",
              " * @param {string} outputId Element ID of the output display.\n",
              " * @return {!Iterable<!Object>} Iterable of next steps.\n",
              " */\n",
              "function* uploadFilesStep(inputId, outputId) {\n",
              "  const inputElement = document.getElementById(inputId);\n",
              "  inputElement.disabled = false;\n",
              "\n",
              "  const outputElement = document.getElementById(outputId);\n",
              "  outputElement.innerHTML = '';\n",
              "\n",
              "  const pickedPromise = new Promise((resolve) => {\n",
              "    inputElement.addEventListener('change', (e) => {\n",
              "      resolve(e.target.files);\n",
              "    });\n",
              "  });\n",
              "\n",
              "  const cancel = document.createElement('button');\n",
              "  inputElement.parentElement.appendChild(cancel);\n",
              "  cancel.textContent = 'Cancel upload';\n",
              "  const cancelPromise = new Promise((resolve) => {\n",
              "    cancel.onclick = () => {\n",
              "      resolve(null);\n",
              "    };\n",
              "  });\n",
              "\n",
              "  // Wait for the user to pick the files.\n",
              "  const files = yield {\n",
              "    promise: Promise.race([pickedPromise, cancelPromise]),\n",
              "    response: {\n",
              "      action: 'starting',\n",
              "    }\n",
              "  };\n",
              "\n",
              "  cancel.remove();\n",
              "\n",
              "  // Disable the input element since further picks are not allowed.\n",
              "  inputElement.disabled = true;\n",
              "\n",
              "  if (!files) {\n",
              "    return {\n",
              "      response: {\n",
              "        action: 'complete',\n",
              "      }\n",
              "    };\n",
              "  }\n",
              "\n",
              "  for (const file of files) {\n",
              "    const li = document.createElement('li');\n",
              "    li.append(span(file.name, {fontWeight: 'bold'}));\n",
              "    li.append(span(\n",
              "        `(${file.type || 'n/a'}) - ${file.size} bytes, ` +\n",
              "        `last modified: ${\n",
              "            file.lastModifiedDate ? file.lastModifiedDate.toLocaleDateString() :\n",
              "                                    'n/a'} - `));\n",
              "    const percent = span('0% done');\n",
              "    li.appendChild(percent);\n",
              "\n",
              "    outputElement.appendChild(li);\n",
              "\n",
              "    const fileDataPromise = new Promise((resolve) => {\n",
              "      const reader = new FileReader();\n",
              "      reader.onload = (e) => {\n",
              "        resolve(e.target.result);\n",
              "      };\n",
              "      reader.readAsArrayBuffer(file);\n",
              "    });\n",
              "    // Wait for the data to be ready.\n",
              "    let fileData = yield {\n",
              "      promise: fileDataPromise,\n",
              "      response: {\n",
              "        action: 'continue',\n",
              "      }\n",
              "    };\n",
              "\n",
              "    // Use a chunked sending to avoid message size limits. See b/62115660.\n",
              "    let position = 0;\n",
              "    do {\n",
              "      const length = Math.min(fileData.byteLength - position, MAX_PAYLOAD_SIZE);\n",
              "      const chunk = new Uint8Array(fileData, position, length);\n",
              "      position += length;\n",
              "\n",
              "      const base64 = btoa(String.fromCharCode.apply(null, chunk));\n",
              "      yield {\n",
              "        response: {\n",
              "          action: 'append',\n",
              "          file: file.name,\n",
              "          data: base64,\n",
              "        },\n",
              "      };\n",
              "\n",
              "      let percentDone = fileData.byteLength === 0 ?\n",
              "          100 :\n",
              "          Math.round((position / fileData.byteLength) * 100);\n",
              "      percent.textContent = `${percentDone}% done`;\n",
              "\n",
              "    } while (position < fileData.byteLength);\n",
              "  }\n",
              "\n",
              "  // All done.\n",
              "  yield {\n",
              "    response: {\n",
              "      action: 'complete',\n",
              "    }\n",
              "  };\n",
              "}\n",
              "\n",
              "scope.google = scope.google || {};\n",
              "scope.google.colab = scope.google.colab || {};\n",
              "scope.google.colab._files = {\n",
              "  _uploadFiles,\n",
              "  _uploadFilesContinue,\n",
              "};\n",
              "})(self);\n",
              "</script> "
            ]
          },
          "metadata": {}
        },
        {
          "output_type": "stream",
          "name": "stdout",
          "text": [
            "Saving phone search.csv to phone search (2).csv\n",
            "cp: cannot stat 'kaggle.json': No such file or directory\n",
            "chmod: cannot access '/root/.kaggle/kaggle.json': No such file or directory\n",
            "Path to dataset files: /root/.cache/kagglehub/datasets/shreyasur965/phone-search-dataset/versions/2\n",
            "         asin                                      product_title  \\\n",
            "0  B0BQ118F2T  Moto G Play 2023 3-Day Battery Unlocked Made f...   \n",
            "1  B0CV2W1TKZ  Samsung Galaxy A15 (SM-155M/DSN), 128GB 6GB RA...   \n",
            "2  B09SM24S8C  Samsung Galaxy A03s Cell Phone, AT&amp;T GSM U...   \n",
            "3  B0CHH1N9VY  TracFone | Motorola Moto g Pure | Locked | 32G...   \n",
            "4  B09T3MQSVP  Samsung Galaxy A13 5G Cell Phone, AT&amp;T GSM...   \n",
            "\n",
            "  product_price product_original_price currency  product_star_rating  \\\n",
            "0        $99.00                $169.99      USD                  4.0   \n",
            "1       $153.99                    NaN      USD                  4.2   \n",
            "2        $69.00                 $99.99      USD                  3.8   \n",
            "3        $49.99                    NaN      USD                  4.2   \n",
            "4        $88.09                 $98.27      USD                  3.8   \n",
            "\n",
            "   product_num_ratings                           product_url  \\\n",
            "0                 1319  https://www.amazon.com/dp/B0BQ118F2T   \n",
            "1                  186  https://www.amazon.com/dp/B0CV2W1TKZ   \n",
            "2                  597  https://www.amazon.com/dp/B09SM24S8C   \n",
            "3                 2814  https://www.amazon.com/dp/B0CHH1N9VY   \n",
            "4                 1338  https://www.amazon.com/dp/B09T3MQSVP   \n",
            "\n",
            "                                       product_photo  product_num_offers  ...  \\\n",
            "0  https://m.media-amazon.com/images/I/61K1Fz5Lxv...                  16  ...   \n",
            "1  https://m.media-amazon.com/images/I/31bNhi6E3e...                   4  ...   \n",
            "2  https://m.media-amazon.com/images/I/51m45B3Yy+...                  35  ...   \n",
            "3  https://m.media-amazon.com/images/I/71zGrrAe5N...                   3  ...   \n",
            "4  https://m.media-amazon.com/images/I/61xhaqnlKP...                  31  ...   \n",
            "\n",
            "  is_amazon_choice  is_prime                product_availability  \\\n",
            "0            False      True  Only 1 left in stock - order soon.   \n",
            "1            False      True                                 NaN   \n",
            "2            False      True                                 NaN   \n",
            "3            False      True                                 NaN   \n",
            "4            False      True                                 NaN   \n",
            "\n",
            "   climate_pledge_friendly               sales_volume  \\\n",
            "0                    False   4K+ bought in past month   \n",
            "1                    False   1K+ bought in past month   \n",
            "2                    False   2K+ bought in past month   \n",
            "3                    False  500+ bought in past month   \n",
            "4                    False  500+ bought in past month   \n",
            "\n",
            "                                            delivery has_variations  \\\n",
            "0  FREE delivery Tue, Sep 24 Only 1 left in stock...          False   \n",
            "1                          FREE delivery Tue, Sep 24          False   \n",
            "2                          FREE delivery Tue, Sep 24           True   \n",
            "3                          FREE delivery Tue, Sep 24          False   \n",
            "4                          FREE delivery Mon, Sep 30          False   \n",
            "\n",
            "  unit_price  unit_count coupon_text  \n",
            "0        NaN         NaN         NaN  \n",
            "1        NaN         NaN         NaN  \n",
            "2        NaN         NaN         NaN  \n",
            "3        NaN         NaN         NaN  \n",
            "4        NaN         NaN         NaN  \n",
            "\n",
            "[5 rows x 22 columns]\n"
          ]
        }
      ]
    },
    {
      "cell_type": "markdown",
      "source": [
        "**Independent Attribute Analysis:**"
      ],
      "metadata": {
        "id": "g1LqLa-pMB3q"
      }
    },
    {
      "cell_type": "code",
      "source": [],
      "metadata": {
        "id": "KRafQTomMCng"
      },
      "execution_count": null,
      "outputs": []
    },
    {
      "cell_type": "markdown",
      "source": [
        "**Dependent Attribute Analysis:**"
      ],
      "metadata": {
        "id": "pkeb_ftDMDdD"
      }
    },
    {
      "cell_type": "code",
      "source": [],
      "metadata": {
        "id": "NvaAeRlaMDt0"
      },
      "execution_count": null,
      "outputs": []
    },
    {
      "cell_type": "markdown",
      "source": [
        "**Building the Markov Model:**"
      ],
      "metadata": {
        "id": "8xHEb7RDMECP"
      }
    },
    {
      "cell_type": "code",
      "source": [],
      "metadata": {
        "id": "Z813X0Q4METL"
      },
      "execution_count": null,
      "outputs": []
    },
    {
      "cell_type": "markdown",
      "source": [
        "**calculated properties and probabilities:**"
      ],
      "metadata": {
        "id": "qN124GRlMEjj"
      }
    },
    {
      "cell_type": "code",
      "source": [],
      "metadata": {
        "id": "ga44BaffMEzW"
      },
      "execution_count": null,
      "outputs": []
    }
  ]
}