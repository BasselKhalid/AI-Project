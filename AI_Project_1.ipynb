{
  "nbformat": 4,
  "nbformat_minor": 0,
  "metadata": {
    "colab": {
      "provenance": [],
      "authorship_tag": "ABX9TyNKPLsx0k5r3VzVBBCqqyd6",
      "include_colab_link": true
    },
    "kernelspec": {
      "name": "python3",
      "display_name": "Python 3"
    },
    "language_info": {
      "name": "python"
    }
  },
  "cells": [
    {
      "cell_type": "markdown",
      "metadata": {
        "id": "view-in-github",
        "colab_type": "text"
      },
      "source": [
        "<a href=\"https://colab.research.google.com/github/BasselKhalid/AI-Project/blob/main/AI_Project_1.ipynb\" target=\"_parent\"><img src=\"https://colab.research.google.com/assets/colab-badge.svg\" alt=\"Open In Colab\"/></a>"
      ]
    },
    {
      "cell_type": "markdown",
      "source": [
        "**Importing the Dataset:**"
      ],
      "metadata": {
        "id": "IftIFrdEMBWV"
      }
    },
    {
      "cell_type": "code",
      "source": [
        "import kagglehub\n",
        "import pandas as pd\n",
        "import os\n",
        "\n",
        "# Step 1: Download the latest version of the dataset using kagglehub\n",
        "path = kagglehub.dataset_download(\"shreyasur965/phone-search-dataset\")\n",
        "print(\"Path to dataset files:\", path)\n",
        "\n",
        "# Step 2: Load the dataset into a pandas DataFrame\n",
        "# Adjust the filename based on the exact name in the downloaded path\n",
        "file_path = os.path.join(path, \"phone search.csv\")\n",
        "if os.path.exists(file_path):\n",
        "    df = pd.read_csv(file_path)\n",
        "    print(df.head())  # Display the first few rows of the dataset\n",
        "else:\n",
        "    print(f\"Error: The file 'phone search.csv' was not found in {path}. Please check the dataset files.\")\n"
      ],
      "metadata": {
        "colab": {
          "base_uri": "https://localhost:8080/"
        },
        "id": "F4GZju77MBm7",
        "outputId": "83863245-7aaa-41f8-e60e-947eede5fbad"
      },
      "execution_count": 8,
      "outputs": [
        {
          "output_type": "stream",
          "name": "stdout",
          "text": [
            "Path to dataset files: /root/.cache/kagglehub/datasets/shreyasur965/phone-search-dataset/versions/2\n",
            "         asin                                      product_title  \\\n",
            "0  B0BQ118F2T  Moto G Play 2023 3-Day Battery Unlocked Made f...   \n",
            "1  B0CV2W1TKZ  Samsung Galaxy A15 (SM-155M/DSN), 128GB 6GB RA...   \n",
            "2  B09SM24S8C  Samsung Galaxy A03s Cell Phone, AT&amp;T GSM U...   \n",
            "3  B0CHH1N9VY  TracFone | Motorola Moto g Pure | Locked | 32G...   \n",
            "4  B09T3MQSVP  Samsung Galaxy A13 5G Cell Phone, AT&amp;T GSM...   \n",
            "\n",
            "  product_price product_original_price currency  product_star_rating  \\\n",
            "0        $99.00                $169.99      USD                  4.0   \n",
            "1       $153.99                    NaN      USD                  4.2   \n",
            "2        $69.00                 $99.99      USD                  3.8   \n",
            "3        $49.99                    NaN      USD                  4.2   \n",
            "4        $88.09                 $98.27      USD                  3.8   \n",
            "\n",
            "   product_num_ratings                           product_url  \\\n",
            "0                 1319  https://www.amazon.com/dp/B0BQ118F2T   \n",
            "1                  186  https://www.amazon.com/dp/B0CV2W1TKZ   \n",
            "2                  597  https://www.amazon.com/dp/B09SM24S8C   \n",
            "3                 2814  https://www.amazon.com/dp/B0CHH1N9VY   \n",
            "4                 1338  https://www.amazon.com/dp/B09T3MQSVP   \n",
            "\n",
            "                                       product_photo  product_num_offers  ...  \\\n",
            "0  https://m.media-amazon.com/images/I/61K1Fz5Lxv...                  16  ...   \n",
            "1  https://m.media-amazon.com/images/I/31bNhi6E3e...                   4  ...   \n",
            "2  https://m.media-amazon.com/images/I/51m45B3Yy+...                  35  ...   \n",
            "3  https://m.media-amazon.com/images/I/71zGrrAe5N...                   3  ...   \n",
            "4  https://m.media-amazon.com/images/I/61xhaqnlKP...                  31  ...   \n",
            "\n",
            "  is_amazon_choice  is_prime                product_availability  \\\n",
            "0            False      True  Only 1 left in stock - order soon.   \n",
            "1            False      True                                 NaN   \n",
            "2            False      True                                 NaN   \n",
            "3            False      True                                 NaN   \n",
            "4            False      True                                 NaN   \n",
            "\n",
            "   climate_pledge_friendly               sales_volume  \\\n",
            "0                    False   4K+ bought in past month   \n",
            "1                    False   1K+ bought in past month   \n",
            "2                    False   2K+ bought in past month   \n",
            "3                    False  500+ bought in past month   \n",
            "4                    False  500+ bought in past month   \n",
            "\n",
            "                                            delivery has_variations  \\\n",
            "0  FREE delivery Tue, Sep 24 Only 1 left in stock...          False   \n",
            "1                          FREE delivery Tue, Sep 24          False   \n",
            "2                          FREE delivery Tue, Sep 24           True   \n",
            "3                          FREE delivery Tue, Sep 24          False   \n",
            "4                          FREE delivery Mon, Sep 30          False   \n",
            "\n",
            "  unit_price  unit_count coupon_text  \n",
            "0        NaN         NaN         NaN  \n",
            "1        NaN         NaN         NaN  \n",
            "2        NaN         NaN         NaN  \n",
            "3        NaN         NaN         NaN  \n",
            "4        NaN         NaN         NaN  \n",
            "\n",
            "[5 rows x 22 columns]\n"
          ]
        }
      ]
    },
    {
      "cell_type": "markdown",
      "source": [
        "**Independent Attribute Analysis:**"
      ],
      "metadata": {
        "id": "g1LqLa-pMB3q"
      }
    },
    {
      "cell_type": "code",
      "source": [],
      "metadata": {
        "id": "KRafQTomMCng"
      },
      "execution_count": null,
      "outputs": []
    },
    {
      "cell_type": "markdown",
      "source": [
        "**Dependent Attribute Analysis:**"
      ],
      "metadata": {
        "id": "pkeb_ftDMDdD"
      }
    },
    {
      "cell_type": "code",
      "source": [],
      "metadata": {
        "id": "NvaAeRlaMDt0"
      },
      "execution_count": null,
      "outputs": []
    },
    {
      "cell_type": "markdown",
      "source": [
        "**Building the Markov Model:**"
      ],
      "metadata": {
        "id": "8xHEb7RDMECP"
      }
    },
    {
      "cell_type": "code",
      "source": [],
      "metadata": {
        "id": "Z813X0Q4METL"
      },
      "execution_count": null,
      "outputs": []
    },
    {
      "cell_type": "markdown",
      "source": [
        "**calculated properties and probabilities:**"
      ],
      "metadata": {
        "id": "qN124GRlMEjj"
      }
    },
    {
      "cell_type": "code",
      "source": [],
      "metadata": {
        "id": "ga44BaffMEzW"
      },
      "execution_count": null,
      "outputs": []
    }
  ]
}